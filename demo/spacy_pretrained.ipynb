{
  "nbformat": 4,
  "nbformat_minor": 0,
  "metadata": {
    "colab": {
      "name": "spacy_pretrained.ipynb",
      "version": "0.3.2",
      "provenance": [],
      "include_colab_link": true
    },
    "kernelspec": {
      "name": "python3",
      "display_name": "Python 3"
    }
  },
  "cells": [
    {
      "cell_type": "markdown",
      "metadata": {
        "id": "view-in-github",
        "colab_type": "text"
      },
      "source": [
        "<a href=\"https://colab.research.google.com/github/aswit3/Start_Your_NLP_Career/blob/master/spacy_pretrained.ipynb\" target=\"_parent\"><img src=\"https://colab.research.google.com/assets/colab-badge.svg\" alt=\"Open In Colab\"/></a>"
      ]
    },
    {
      "cell_type": "code",
      "metadata": {
        "id": "NY3xv_OvXnrS",
        "colab_type": "code",
        "colab": {
          "base_uri": "https://localhost:8080/",
          "height": 156
        },
        "outputId": "6de76a44-55f3-45da-b0a7-91e4ca5f47e0"
      },
      "source": [
        "#!python -m spacy download en_core_web_md\n",
        "!python -m spacy download en"
      ],
      "execution_count": 7,
      "outputs": [
        {
          "output_type": "stream",
          "text": [
            "Requirement already satisfied: en_core_web_sm==2.1.0 from https://github.com/explosion/spacy-models/releases/download/en_core_web_sm-2.1.0/en_core_web_sm-2.1.0.tar.gz#egg=en_core_web_sm==2.1.0 in /usr/local/lib/python3.6/dist-packages (2.1.0)\n",
            "\u001b[38;5;2m✔ Download and installation successful\u001b[0m\n",
            "You can now load the model via spacy.load('en_core_web_sm')\n",
            "\u001b[38;5;2m✔ Linking successful\u001b[0m\n",
            "/usr/local/lib/python3.6/dist-packages/en_core_web_sm -->\n",
            "/usr/local/lib/python3.6/dist-packages/spacy/data/en\n",
            "You can now load the model via spacy.load('en')\n"
          ],
          "name": "stdout"
        }
      ]
    },
    {
      "cell_type": "code",
      "metadata": {
        "id": "bWVH_2XeXewU",
        "colab_type": "code",
        "colab": {}
      },
      "source": [
        "import spacy\n",
        "# Load the spacy model that you have installed\n",
        "nlp = spacy.load('en')"
      ],
      "execution_count": 0,
      "outputs": []
    },
    {
      "cell_type": "code",
      "metadata": {
        "id": "eSXyuhL5XhFk",
        "colab_type": "code",
        "colab": {
          "base_uri": "https://localhost:8080/",
          "height": 442
        },
        "outputId": "1878479e-cedf-457f-8042-c74851c6fd0a"
      },
      "source": [
        "# process a sentence using the model\n",
        "doc = nlp(\"This is some text that I am processing with Spacy\")\n",
        "# It's that simple - all of the vectors and words are assigned after this point\n",
        "# Get the vector for 'text':\n",
        "text = doc[4].text\n",
        "vector = doc[4].vector\n",
        "\n",
        "print(vector.shape, text)\n",
        "# Get the mean vector for the entire sentence (useful for sentence classification etc.)\n",
        "vector1 = doc.vector\n",
        "\n",
        "print(vector1)"
      ],
      "execution_count": 17,
      "outputs": [
        {
          "output_type": "stream",
          "text": [
            "(96,) that\n",
            "[-4.9158383e-02 -2.2899616e+00  2.5269842e-01 -2.6431209e-01\n",
            " -1.1894754e+00 -4.9129987e-01  1.5165387e+00  1.6127644e+00\n",
            " -1.3823860e+00  2.9913145e-01 -9.8314810e-01  8.7381285e-01\n",
            " -1.2274878e+00  1.0824182e+00  5.8566272e-01 -2.0701867e-02\n",
            "  3.3010659e-01  1.4820244e+00  2.0354960e+00  1.7076943e+00\n",
            " -1.4619898e+00 -2.7528131e-01  2.6012371e+00  2.5300572e+00\n",
            " -1.3915771e+00  1.0471743e+00  1.1071947e+00 -6.7873907e-01\n",
            " -9.4008607e-01  1.8030189e+00  1.3864447e+00 -9.6817780e-01\n",
            " -9.8889017e-01 -1.6335909e+00  6.5532809e-01  1.2170750e+00\n",
            " -6.2035829e-01  1.8760487e-01 -2.4593856e+00  5.7861918e-01\n",
            "  2.2893906e-01  1.0961099e+00 -1.0336214e+00  1.9069424e+00\n",
            " -1.7398831e+00 -1.9183344e+00 -5.8177680e-01 -6.3919365e-01\n",
            " -6.7629862e-01 -1.7188880e+00  2.4197014e-01 -7.0250863e-01\n",
            " -1.7290170e+00  8.8305938e-01  4.5162058e-01 -8.7952787e-01\n",
            " -9.1050053e-01  1.0783484e+00 -6.5873611e-01  1.2649627e+00\n",
            " -1.2529211e+00 -9.3100452e-01  9.3277204e-01  5.9290999e-01\n",
            " -1.4891685e+00  9.3676770e-01  1.1582804e+00 -4.0674418e-01\n",
            " -1.3210254e+00 -3.1475013e-01  1.3856208e+00 -1.2442671e+00\n",
            "  3.4682560e-01  5.7679939e-01  7.8304642e-01  1.6045773e+00\n",
            "  3.8187975e-01 -5.1894939e-01 -7.5808954e-01 -1.2762765e+00\n",
            " -2.5464076e-01 -6.5704519e-01 -3.3581743e-01 -1.3231754e-03\n",
            "  5.5973053e-01  8.2692462e-01  2.4014823e+00 -8.0527151e-01\n",
            " -6.6916847e-01  1.3325342e+00  6.5424055e-01  2.7054557e-01\n",
            " -1.8766144e-01  1.0717672e+00 -6.7821664e-01  5.5232954e-01]\n"
          ],
          "name": "stdout"
        }
      ]
    },
    {
      "cell_type": "code",
      "metadata": {
        "id": "ekVOR7nTZaQD",
        "colab_type": "code",
        "colab": {}
      },
      "source": [
        ""
      ],
      "execution_count": 0,
      "outputs": []
    }
  ]
}